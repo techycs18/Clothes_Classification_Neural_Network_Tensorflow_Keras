{
 "cells": [
  {
   "cell_type": "code",
   "execution_count": 1,
   "metadata": {
    "ExecuteTime": {
     "end_time": "2020-06-14T07:50:10.117309Z",
     "start_time": "2020-06-14T07:50:05.136329Z"
    }
   },
   "outputs": [],
   "source": [
    "import tensorflow as tf\n",
    "from tensorflow import keras\n",
    "import matplotlib.pyplot as plt"
   ]
  },
  {
   "cell_type": "code",
   "execution_count": 2,
   "metadata": {
    "ExecuteTime": {
     "end_time": "2020-06-14T07:50:10.123309Z",
     "start_time": "2020-06-14T07:50:10.120236Z"
    }
   },
   "outputs": [],
   "source": [
    "tf.random.set_seed(18)"
   ]
  },
  {
   "cell_type": "code",
   "execution_count": 3,
   "metadata": {
    "ExecuteTime": {
     "end_time": "2020-06-14T07:50:10.903058Z",
     "start_time": "2020-06-14T07:50:10.127684Z"
    }
   },
   "outputs": [],
   "source": [
    "(X_train, y_train), (X_test, y_test) = keras.datasets.fashion_mnist.load_data()"
   ]
  },
  {
   "cell_type": "code",
   "execution_count": 4,
   "metadata": {
    "ExecuteTime": {
     "end_time": "2020-06-14T07:50:11.960389Z",
     "start_time": "2020-06-14T07:50:10.907143Z"
    }
   },
   "outputs": [
    {
     "data": {
      "image/png": "[encoded data removed]",
      "text/plain": [
       "<Figure size 432x288 with 2 Axes>"
      ]
     },
     "metadata": {
      "needs_background": "light"
     },
     "output_type": "display_data"
    }
   ],
   "source": [
    "plt.figure()\n",
    "plt.imshow(X_train[5])\n",
    "plt.colorbar()\n",
    "plt.grid(False)\n",
    "plt.show()"
   ]
  },
  {
   "cell_type": "code",
   "execution_count": 5,
   "metadata": {
    "ExecuteTime": {
     "end_time": "2020-06-14T07:50:11.981100Z",
     "start_time": "2020-06-14T07:50:11.967954Z"
    }
   },
   "outputs": [],
   "source": [
    "class_names = ['T-shirt/top', 'Trouser', 'Pullover', 'Dress', 'Coat',\n",
    "               'Sandal', 'Shirt', 'Sneaker', 'Bag', 'Ankle boot']"
   ]
  },
  {
   "cell_type": "code",
   "execution_count": 6,
   "metadata": {
    "ExecuteTime": {
     "end_time": "2020-06-14T07:50:12.379682Z",
     "start_time": "2020-06-14T07:50:11.988705Z"
    }
   },
   "outputs": [],
   "source": [
    "X_train = X_train/255\n",
    "X_test = X_test/255"
   ]
  },
  {
   "cell_type": "code",
   "execution_count": 7,
   "metadata": {
    "ExecuteTime": {
     "end_time": "2020-06-14T07:50:12.392708Z",
     "start_time": "2020-06-14T07:50:12.385768Z"
    }
   },
   "outputs": [],
   "source": [
    "X_val, X_train = X_train[:5000], X_train[5000:]\n",
    "y_val, y_train = y_train[:5000], y_train[5000:]"
   ]
  },
  {
   "cell_type": "code",
   "execution_count": 8,
   "metadata": {
    "ExecuteTime": {
     "end_time": "2020-06-14T07:50:12.418842Z",
     "start_time": "2020-06-14T07:50:12.400693Z"
    }
   },
   "outputs": [
    {
     "data": {
      "text/plain": [
       "(5000, 28, 28)"
      ]
     },
     "execution_count": 8,
     "metadata": {},
     "output_type": "execute_result"
    }
   ],
   "source": [
    "X_val.shape"
   ]
  },
  {
   "cell_type": "code",
   "execution_count": 9,
   "metadata": {
    "ExecuteTime": {
     "end_time": "2020-06-14T07:50:12.435153Z",
     "start_time": "2020-06-14T07:50:12.422449Z"
    }
   },
   "outputs": [
    {
     "data": {
      "text/plain": [
       "(55000, 28, 28)"
      ]
     },
     "execution_count": 9,
     "metadata": {},
     "output_type": "execute_result"
    }
   ],
   "source": [
    "X_train.shape"
   ]
  },
  {
   "cell_type": "code",
   "execution_count": 10,
   "metadata": {
    "ExecuteTime": {
     "end_time": "2020-06-14T07:50:12.618683Z",
     "start_time": "2020-06-14T07:50:12.437402Z"
    }
   },
   "outputs": [],
   "source": [
    "model = keras.Sequential([\n",
    "    keras.layers.Flatten(input_shape=(28,28)),\n",
    "    keras.layers.Dense(300, activation='relu'),\n",
    "    keras.layers.Dense(100, activation='relu'),\n",
    "    keras.layers.Dense(10, activation='softmax')\n",
    "])"
   ]
  },
  {
   "cell_type": "code",
   "execution_count": 11,
   "metadata": {
    "ExecuteTime": {
     "end_time": "2020-06-14T07:50:12.652008Z",
     "start_time": "2020-06-14T07:50:12.626711Z"
    }
   },
   "outputs": [
    {
     "name": "stdout",
     "output_type": "stream",
     "text": [
      "Model: \"sequential\"\n",
      "_________________________________________________________________\n",
      "Layer (type)                 Output Shape              Param #   \n",
      "=================================================================\n",
      "flatten (Flatten)            (None, 784)               0         \n",
      "_________________________________________________________________\n",
      "dense (Dense)                (None, 300)               235500    \n",
      "_________________________________________________________________\n",
      "dense_1 (Dense)              (None, 100)               30100     \n",
      "_________________________________________________________________\n",
      "dense_2 (Dense)              (None, 10)                1010      \n",
      "=================================================================\n",
      "Total params: 266,610\n",
      "Trainable params: 266,610\n",
      "Non-trainable params: 0\n",
      "_________________________________________________________________\n"
     ]
    }
   ],
   "source": [
    "model.summary()"
   ]
  },
  {
   "cell_type": "code",
   "execution_count": 41,
   "metadata": {
    "ExecuteTime": {
     "end_time": "2020-06-14T08:29:47.768517Z",
     "start_time": "2020-06-14T08:29:47.765479Z"
    }
   },
   "outputs": [],
   "source": [
    "import pydot"
   ]
  },
  {
   "cell_type": "code",
   "execution_count": 42,
   "metadata": {
    "ExecuteTime": {
     "end_time": "2020-06-14T08:29:48.115097Z",
     "start_time": "2020-06-14T08:29:48.009579Z"
    }
   },
   "outputs": [
    {
     "data": {
      "image/png": "[encoded data removed]",
      "text/plain": [
       "<IPython.core.display.Image object>"
      ]
     },
     "execution_count": 42,
     "metadata": {},
     "output_type": "execute_result"
    }
   ],
   "source": [
    "keras.utils.plot_model(model)"
   ]
  },
  {
   "cell_type": "code",
   "execution_count": 43,
   "metadata": {
    "ExecuteTime": {
     "end_time": "2020-06-14T08:29:48.942715Z",
     "start_time": "2020-06-14T08:29:48.930830Z"
    }
   },
   "outputs": [],
   "source": [
    "weights, bias = model.layers[1].get_weights() "
   ]
  },
  {
   "cell_type": "code",
   "execution_count": 59,
   "metadata": {
    "ExecuteTime": {
     "end_time": "2020-06-14T08:34:35.954766Z",
     "start_time": "2020-06-14T08:34:35.945247Z"
    }
   },
   "outputs": [],
   "source": [
    "early_Stoping = keras.callbacks.EarlyStopping(patience=10, restore_best_weights=True)\n",
    "checkpoint = keras.callbacks.ModelCheckpoint(\"early_stopping_best_value.h5\", save_best_only=True)"
   ]
  },
  {
   "cell_type": "code",
   "execution_count": 60,
   "metadata": {
    "ExecuteTime": {
     "end_time": "2020-06-14T08:34:36.314606Z",
     "start_time": "2020-06-14T08:34:36.308429Z"
    }
   },
   "outputs": [
    {
     "name": "stdout",
     "output_type": "stream",
     "text": [
      "weights => (784, 300)\n",
      "bias => (300,)\n"
     ]
    }
   ],
   "source": [
    "print(\"weights => {}\\nbias => {}\".format(weights.shape, bias.shape))"
   ]
  },
  {
   "cell_type": "code",
   "execution_count": 62,
   "metadata": {
    "ExecuteTime": {
     "end_time": "2020-06-14T08:34:48.079136Z",
     "start_time": "2020-06-14T08:34:48.053068Z"
    }
   },
   "outputs": [],
   "source": [
    "model.compile(optimizer='sgd', loss=\"sparse_categorical_crossentropy\",metrics=['accuracy'])"
   ]
  },
  {
   "cell_type": "code",
   "execution_count": 63,
   "metadata": {
    "ExecuteTime": {
     "end_time": "2020-06-14T08:35:50.658002Z",
     "start_time": "2020-06-14T08:34:48.556864Z"
    }
   },
   "outputs": [
    {
     "name": "stdout",
     "output_type": "stream",
     "text": [
      "Epoch 1/40\n",
      "1719/1719 [==============================] - 6s 4ms/step - loss: 0.0878 - accuracy: 0.9665 - val_loss: 0.4269 - val_accuracy: 0.9034\n",
      "Epoch 2/40\n",
      "1719/1719 [==============================] - 6s 3ms/step - loss: 0.0752 - accuracy: 0.9712 - val_loss: 0.4292 - val_accuracy: 0.9032\n",
      "Epoch 3/40\n",
      "1719/1719 [==============================] - 6s 3ms/step - loss: 0.0712 - accuracy: 0.9730 - val_loss: 0.4299 - val_accuracy: 0.9056\n",
      "Epoch 4/40\n",
      "1719/1719 [==============================] - 5s 3ms/step - loss: 0.0690 - accuracy: 0.9740 - val_loss: 0.4373 - val_accuracy: 0.9044\n",
      "Epoch 5/40\n",
      "1719/1719 [==============================] - 5s 3ms/step - loss: 0.0672 - accuracy: 0.9746 - val_loss: 0.4407 - val_accuracy: 0.9038\n",
      "Epoch 6/40\n",
      "1719/1719 [==============================] - 5s 3ms/step - loss: 0.0661 - accuracy: 0.9748 - val_loss: 0.4425 - val_accuracy: 0.9042\n",
      "Epoch 7/40\n",
      "1719/1719 [==============================] - 5s 3ms/step - loss: 0.0648 - accuracy: 0.9750 - val_loss: 0.4470 - val_accuracy: 0.9040\n",
      "Epoch 8/40\n",
      "1719/1719 [==============================] - 5s 3ms/step - loss: 0.0638 - accuracy: 0.9757 - val_loss: 0.4480 - val_accuracy: 0.9042\n",
      "Epoch 9/40\n",
      "1719/1719 [==============================] - 6s 3ms/step - loss: 0.0629 - accuracy: 0.9763 - val_loss: 0.4556 - val_accuracy: 0.9046\n",
      "Epoch 10/40\n",
      "1719/1719 [==============================] - 6s 4ms/step - loss: 0.0621 - accuracy: 0.9765 - val_loss: 0.4597 - val_accuracy: 0.9026\n",
      "Epoch 11/40\n",
      "1719/1719 [==============================] - 5s 3ms/step - loss: 0.0614 - accuracy: 0.9768 - val_loss: 0.4603 - val_accuracy: 0.9034\n"
     ]
    }
   ],
   "source": [
    "mode_history = model.fit(X_train, y_train, epochs=40, validation_data=(X_val, y_val), callbacks=[checkpoint,early_Stoping])"
   ]
  },
  {
   "cell_type": "code",
   "execution_count": 77,
   "metadata": {
    "ExecuteTime": {
     "end_time": "2020-06-14T11:46:57.523245Z",
     "start_time": "2020-06-14T11:46:57.517966Z"
    }
   },
   "outputs": [
    {
     "data": {
      "text/plain": [
       "{'verbose': 1, 'epochs': 40, 'steps': 1719}"
      ]
     },
     "execution_count": 77,
     "metadata": {},
     "output_type": "execute_result"
    }
   ],
   "source": [
    "mode_history.params"
   ]
  },
  {
   "cell_type": "code",
   "execution_count": 78,
   "metadata": {
    "ExecuteTime": {
     "end_time": "2020-06-14T11:46:57.982875Z",
     "start_time": "2020-06-14T11:46:57.977271Z"
    }
   },
   "outputs": [
    {
     "data": {
      "text/plain": [
       "{'loss': [0.08781369775533676,\n",
       "  0.07521205395460129,\n",
       "  0.0712253674864769,\n",
       "  0.0689508393406868,\n",
       "  0.06720814108848572,\n",
       "  0.06612697243690491,\n",
       "  0.06483469158411026,\n",
       "  0.06383737176656723,\n",
       "  0.06292776018381119,\n",
       "  0.06208931654691696,\n",
       "  0.06141982972621918],\n",
       " 'accuracy': [0.9665454626083374,\n",
       "  0.9711999893188477,\n",
       "  0.9729999899864197,\n",
       "  0.9740363359451294,\n",
       "  0.9745636582374573,\n",
       "  0.9747999906539917,\n",
       "  0.9750363826751709,\n",
       "  0.975745439529419,\n",
       "  0.9763091206550598,\n",
       "  0.9765090942382812,\n",
       "  0.9768000245094299],\n",
       " 'val_loss': [0.426908016204834,\n",
       "  0.42916953563690186,\n",
       "  0.4298897385597229,\n",
       "  0.43730151653289795,\n",
       "  0.4407292902469635,\n",
       "  0.44252628087997437,\n",
       "  0.44696322083473206,\n",
       "  0.4480048716068268,\n",
       "  0.45563074946403503,\n",
       "  0.45973071455955505,\n",
       "  0.46025562286376953],\n",
       " 'val_accuracy': [0.9034000039100647,\n",
       "  0.9031999707221985,\n",
       "  0.9056000113487244,\n",
       "  0.9043999910354614,\n",
       "  0.9038000106811523,\n",
       "  0.90420001745224,\n",
       "  0.9039999842643738,\n",
       "  0.90420001745224,\n",
       "  0.9046000242233276,\n",
       "  0.9025999903678894,\n",
       "  0.9034000039100647]}"
      ]
     },
     "execution_count": 78,
     "metadata": {},
     "output_type": "execute_result"
    }
   ],
   "source": [
    "mode_history.history"
   ]
  },
  {
   "cell_type": "code",
   "execution_count": 79,
   "metadata": {
    "ExecuteTime": {
     "end_time": "2020-06-14T11:47:02.293212Z",
     "start_time": "2020-06-14T11:47:02.036272Z"
    }
   },
   "outputs": [
    {
     "data": {
      "image/png": "[encoded data removed]",
      "text/plain": [
       "<Figure size 576x360 with 1 Axes>"
      ]
     },
     "metadata": {},
     "output_type": "display_data"
    }
   ],
   "source": [
    "import pandas as pd\n",
    "import seaborn as sns\n",
    "sns.set_style('ticks')\n",
    "pd.DataFrame(mode_history.history).plot(figsize=(8,5))\n",
    "plt.grid(True)\n",
    "plt.gca().set_ylim(0,1)\n",
    "plt.show()"
   ]
  },
  {
   "cell_type": "code",
   "execution_count": 80,
   "metadata": {
    "ExecuteTime": {
     "end_time": "2020-06-14T11:47:09.214215Z",
     "start_time": "2020-06-14T11:47:07.791467Z"
    }
   },
   "outputs": [
    {
     "name": "stdout",
     "output_type": "stream",
     "text": [
      "313/313 [==============================] - 1s 4ms/step - loss: 0.4642 - accuracy: 0.8969\n"
     ]
    },
    {
     "data": {
      "text/plain": [
       "[0.46424058079719543, 0.8968999981880188]"
      ]
     },
     "execution_count": 80,
     "metadata": {},
     "output_type": "execute_result"
    }
   ],
   "source": [
    "model.evaluate(X_test, y_test)"
   ]
  },
  {
   "cell_type": "code",
   "execution_count": 81,
   "metadata": {
    "ExecuteTime": {
     "end_time": "2020-06-14T11:47:11.954993Z",
     "start_time": "2020-06-14T11:47:11.950005Z"
    }
   },
   "outputs": [],
   "source": [
    "X_new = X_test[:5]"
   ]
  },
  {
   "cell_type": "code",
   "execution_count": 82,
   "metadata": {
    "ExecuteTime": {
     "end_time": "2020-06-14T11:47:12.447043Z",
     "start_time": "2020-06-14T11:47:12.394877Z"
    }
   },
   "outputs": [
    {
     "data": {
      "text/plain": [
       "array([9, 2, 1, 1, 0])"
      ]
     },
     "execution_count": 82,
     "metadata": {},
     "output_type": "execute_result"
    }
   ],
   "source": [
    "y_pred = model.predict_classes(X_new)\n",
    "y_pred"
   ]
  },
  {
   "cell_type": "code",
   "execution_count": 70,
   "metadata": {
    "ExecuteTime": {
     "end_time": "2020-06-14T08:36:02.190150Z",
     "start_time": "2020-06-14T08:36:02.183741Z"
    }
   },
   "outputs": [
    {
     "data": {
      "text/plain": [
       "array([9, 2, 1, 1, 6], dtype=uint8)"
      ]
     },
     "execution_count": 70,
     "metadata": {},
     "output_type": "execute_result"
    }
   ],
   "source": [
    "y_test[:5]"
   ]
  },
  {
   "cell_type": "code",
   "execution_count": 71,
   "metadata": {
    "ExecuteTime": {
     "end_time": "2020-06-14T08:36:02.420560Z",
     "start_time": "2020-06-14T08:36:02.412506Z"
    }
   },
   "outputs": [
    {
     "data": {
      "text/plain": [
       "array(['Ankle boot', 'Pullover', 'Trouser', 'Trouser', 'T-shirt/top'],\n",
       "      dtype='<U11')"
      ]
     },
     "execution_count": 71,
     "metadata": {},
     "output_type": "execute_result"
    }
   ],
   "source": [
    "import numpy as np\n",
    "np.array(class_names)[y_pred]"
   ]
  },
  {
   "cell_type": "code",
   "execution_count": 72,
   "metadata": {
    "ExecuteTime": {
     "end_time": "2020-06-14T08:36:02.879797Z",
     "start_time": "2020-06-14T08:36:02.851778Z"
    }
   },
   "outputs": [],
   "source": [
    "model.save(\"fashion_mnist_1.h5\")"
   ]
  },
  {
   "cell_type": "code",
   "execution_count": 73,
   "metadata": {
    "ExecuteTime": {
     "end_time": "2020-06-14T08:36:03.147147Z",
     "start_time": "2020-06-14T08:36:03.144642Z"
    }
   },
   "outputs": [],
   "source": [
    "# del model"
   ]
  },
  {
   "cell_type": "code",
   "execution_count": 74,
   "metadata": {
    "ExecuteTime": {
     "end_time": "2020-06-14T08:36:03.917286Z",
     "start_time": "2020-06-14T08:36:03.909281Z"
    }
   },
   "outputs": [],
   "source": [
    "# keras.backend.clear_session()"
   ]
  },
  {
   "cell_type": "code",
   "execution_count": 75,
   "metadata": {
    "ExecuteTime": {
     "end_time": "2020-06-14T08:36:04.108634Z",
     "start_time": "2020-06-14T08:36:04.104943Z"
    }
   },
   "outputs": [],
   "source": [
    "# model = keras.models.load_model('fashion_mnist_1.h5')"
   ]
  },
  {
   "cell_type": "code",
   "execution_count": 76,
   "metadata": {
    "ExecuteTime": {
     "end_time": "2020-06-14T08:36:04.315866Z",
     "start_time": "2020-06-14T08:36:04.312229Z"
    }
   },
   "outputs": [],
   "source": [
    "# model.predict_classes(X_new)"
   ]
  },
  {
   "cell_type": "markdown",
   "metadata": {},
   "source": [
    "<h4>You can also use call backs to save the model after each epoch and use save_best_only to save the best model of all epochs </h4>"
   ]
  },
  {
   "cell_type": "markdown",
   "metadata": {
    "ExecuteTime": {
     "end_time": "2020-06-14T08:03:59.287839Z",
     "start_time": "2020-06-14T08:03:59.281393Z"
    }
   },
   "source": [
    "<h4>This can save time and we dont need to re-train and run our model again to use the model in future</h4>"
   ]
  },
  {
   "cell_type": "code",
   "execution_count": null,
   "metadata": {},
   "outputs": [],
   "source": []
  }
 ],
 "metadata": {
  "kernelspec": {
   "display_name": "Python 3",
   "language": "python",
   "name": "python3"
  },
  "language_info": {
   "codemirror_mode": {
    "name": "ipython",
    "version": 3
   },
   "file_extension": ".py",
   "mimetype": "text/x-python",
   "name": "python",
   "nbconvert_exporter": "python",
   "pygments_lexer": "ipython3",
   "version": "3.7.7"
  }
 },
 "nbformat": 4,
 "nbformat_minor": 4
}
